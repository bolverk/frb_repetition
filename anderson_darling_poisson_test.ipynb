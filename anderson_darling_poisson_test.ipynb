{
 "cells": [
  {
   "cell_type": "markdown",
   "metadata": {},
   "source": [
    "# Introduction\n",
    "\n",
    "In this notebook we check whether the [repeating FRB](http://adsabs.harvard.edu/cgi-bin/bib_query?arXiv:1603.00581) events are distributed according to [Poisson statistics](https://en.wikipedia.org/wiki/Poisson_distribution), using the [Anderson Darling test](https://en.wikipedia.org/wiki/Anderson%E2%80%93Darling_test).\n",
    "\n",
    "# Mathematical Formulation\n",
    "\n",
    "Suppose we observe a system for a time $T$, and detect $N$ events, at times $t_i$. According to Poisson statistics, the average number of events increases linearly with time, as is the standard deviation\n",
    "\n",
    "$C_t \\left( t \\right) = \\sigma^2 \\left(t \\right) = \\lambda t$\n",
    "\n",
    "where $\\lambda$ is a constant. We want to compare this theoretical prediction to the experimental event count\n",
    "\n",
    "$C_e \\left(t\\right) = \\sum_{i=1}^{N} \\theta \\left(t - t_i \\right)$\n",
    "\n",
    "Where $\\theta \\left(t\\right)$ is the [Heaviside step function](https://en.wikipedia.org/wiki/Heaviside_step_function). The Anderson Darling fit quality is\n",
    "\n",
    "$\\chi^2 = \\frac{1}{T}\\int_0^T \\frac{\\left(C_t\\left(t \\right ) - C_e \\left(t \\right )\\right )^2}{\\sigma^2 \\left(t\\right)}dt = \\frac{1}{2} \\lambda T - 2N + 2\\sum_{i=1}^N \\frac{t_i}{T} + \\frac{1}{\\lambda T} \\sum_{i=1}^N \\left(2 i - 1 \\right ) \\ln \\frac{T}{t_i} $\n",
    "\n",
    "The best fit rate $\\lambda$ can be found by minimising $\\chi^2$\n",
    "\n",
    "$\\lambda = \\frac{1}{T}\\sqrt{2 \\sum_{i=1}^N \\left(2i-1\\right) \\ln \\frac{T}{t_i}}$\n",
    "\n",
    "Substituting back into the expression for $\\chi^2$ yields the minimum value of the fit quality\n",
    "\n",
    "$\\chi^2_{\\min} = \\sqrt{2 \\sum_{i=1}^N \\left(2i-1 \\right ) \\ln \\frac{T}{t_i}} - 2N+2 \\sum_{i=1}^N \\frac{t_i}{T}$\n",
    "\n",
    "We note that due to the fact that the Poisson distribution describes a memory - less process, the observation window does not have to be contiguous.\n",
    "\n",
    "# Application for Repeating FRB\n",
    "\n",
    "Load the raw observational data"
   ]
  },
  {
   "cell_type": "code",
   "execution_count": 4,
   "metadata": {},
   "outputs": [],
   "source": [
    "import numpy\n",
    "\n",
    "times_txt = numpy.loadtxt('code/times.txt', skiprows=1)\n",
    "observations_txt = numpy.loadtxt('code/observations.txt', skiprows=1)"
   ]
  },
  {
   "cell_type": "markdown",
   "metadata": {},
   "source": [
    "Total cumulative observation time"
   ]
  },
  {
   "cell_type": "code",
   "execution_count": 19,
   "metadata": {
    "collapsed": true
   },
   "outputs": [],
   "source": [
    "total_cumulative_observation_time = numpy.sum(observations_txt.T[-2])"
   ]
  },
  {
   "cell_type": "markdown",
   "metadata": {},
   "source": [
    "Calculate correction for disperion measure"
   ]
  },
  {
   "cell_type": "code",
   "execution_count": 8,
   "metadata": {},
   "outputs": [],
   "source": [
    "import astropy.time\n",
    "dm_correction = [astropy.time.TimeDelta(4.148808e3*559/line[7]**2, format='sec') for line in observations_txt]"
   ]
  },
  {
   "cell_type": "markdown",
   "metadata": {},
   "source": [
    "Geographical correction for light travel time"
   ]
  },
  {
   "cell_type": "code",
   "execution_count": 10,
   "metadata": {},
   "outputs": [
    {
     "name": "stderr",
     "output_type": "stream",
     "text": [
      "/home/ayalin/anaconda3/lib/python3.6/site-packages/astropy/table/column.py:1096: MaskedArrayFutureWarning: setting an item on a masked array which has a shared mask will not copy the mask and also change the original mask array in the future.\n",
      "Check the NumPy 1.11 release notes for more information.\n",
      "  ma.MaskedArray.__setitem__(self, index, value)\n"
     ]
    }
   ],
   "source": [
    "import astropy.coordinates\n",
    "frb_loc = astropy.coordinates.SkyCoord('05:31:58','+33:08:04',\n",
    "                                       unit=(astropy.units.hourangle,astropy.units.deg),equinox='J2000')\n",
    "arecibo_loc = astropy.coordinates.EarthLocation.from_geodetic(lon=-66.7528,lat=18.3464) #index 0\n",
    "effelsberg_loc = astropy.coordinates.EarthLocation.from_geodetic(lon='6:52:58',lat='50:31:29') #index 1\n",
    "gbt_loc = astropy.coordinates.EarthLocation.from_geodetic(lon='-79.8398',lat='38.4322') #index 2\n",
    "vla_loc = astropy.coordinates.EarthLocation.from_geodetic(lon='-107.6184',lat='34.0784') #index 3\n",
    "lovell_loc = astropy.coordinates.EarthLocation.from_geodetic(lon='-2.3085',lat='53.2367') #index 4\n",
    "locs = [arecibo_loc,effelsberg_loc,gbt_loc,vla_loc,lovell_loc] #locations of all involved observatories\n",
    "light_travel_times = [astropy.time.Time('%04i-%02i-%02iT%02i:%02i:%02i'%(line[0],\n",
    "                                                    line[1],\n",
    "                                                    line[2],\n",
    "                                                    line[3],\n",
    "                                                    line[4],\n",
    "                                                    line[5]),\n",
    "                  format='isot',\n",
    "                   scale='utc',\n",
    "                  location=locs[int(line[6])]).light_travel_time(frb_loc)\n",
    "             for line in observations_txt]"
   ]
  },
  {
   "cell_type": "markdown",
   "metadata": {},
   "source": [
    "Calculate observation start time in mjd and apply the corrections above"
   ]
  },
  {
   "cell_type": "code",
   "execution_count": 12,
   "metadata": {
    "collapsed": true
   },
   "outputs": [],
   "source": [
    "start_times_raw = [astropy.time.Time('%04i-%02i-%02iT%02i:%02i:%02i'%(line[0],\n",
    "                                                                line[1],\n",
    "                                                                line[2],\n",
    "                                                                line[3],\n",
    "                                                                line[4],\n",
    "                                                                line[5]),\n",
    "                              format='isot',\n",
    "                               scale='utc',\n",
    "                              location=locs[int(line[6])])\n",
    "             for line in observations_txt]\n",
    "\n",
    "start_mjd = [(tstart.tdb-dmcorr+tlt).mjd \n",
    "             for tstart,dmcorr,tlt in \n",
    "             zip(start_times_raw, dm_correction, light_travel_times)]\n",
    "\n"
   ]
  },
  {
   "cell_type": "markdown",
   "metadata": {},
   "source": [
    "Calculate the cumulative times for the FRB events in seconds (this is the time measured from the begininng of the first observation if all observation windows are concatenated)"
   ]
  },
  {
   "cell_type": "code",
   "execution_count": 13,
   "metadata": {
    "collapsed": true
   },
   "outputs": [],
   "source": [
    "t_frb_cumulative = numpy.zeros_like(times_txt.T[0])\n",
    "for n, line in enumerate(times_txt):\n",
    "    idx = int(line[-1])\n",
    "    idx_in_observations = numpy.where(observations_txt.T[-1]>0)[0][idx]\n",
    "    t_frb_cumulative[n] = numpy.sum(observations_txt.T[-2][:idx_in_observations+1]) + (line[0]-start_mjd[idx_in_observations])*3600"
   ]
  },
  {
   "cell_type": "markdown",
   "metadata": {},
   "source": [
    "Calculate $\\chi^2_{\\min}$"
   ]
  },
  {
   "cell_type": "code",
   "execution_count": 23,
   "metadata": {},
   "outputs": [
    {
     "data": {
      "text/plain": [
       "5.805395958327793"
      ]
     },
     "execution_count": 23,
     "metadata": {},
     "output_type": "execute_result"
    }
   ],
   "source": [
    "def anderson_darling_poisson_test(t2T_list):\n",
    "    \n",
    "    n_list = numpy.linspace(1,len(t2T_list), len(t2T_list))\n",
    "    return numpy.sqrt(-2*numpy.sum((2*n_list-1)*numpy.log(t2T_list)) - 2*len(t2T_list) + 2*numpy.sum(t2T_list))\n",
    "\n",
    "numpy.sqrt(anderson_darling_poisson_test(t_frb_cumulative/ total_cumulative_observation_time))"
   ]
  },
  {
   "cell_type": "markdown",
   "metadata": {},
   "source": [
    "The distance between the theory and the observations is almost six standard deviations, so Poisson statistics can be disqualified with a high degree of certainty."
   ]
  },
  {
   "cell_type": "code",
   "execution_count": null,
   "metadata": {
    "collapsed": true
   },
   "outputs": [],
   "source": []
  }
 ],
 "metadata": {
  "kernelspec": {
   "display_name": "Python 3",
   "language": "python",
   "name": "python3"
  },
  "language_info": {
   "codemirror_mode": {
    "name": "ipython",
    "version": 3
   },
   "file_extension": ".py",
   "mimetype": "text/x-python",
   "name": "python",
   "nbconvert_exporter": "python",
   "pygments_lexer": "ipython3",
   "version": "3.6.1"
  }
 },
 "nbformat": 4,
 "nbformat_minor": 2
}
